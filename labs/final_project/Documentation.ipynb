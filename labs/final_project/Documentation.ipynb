{
 "cells": [
  {
   "cell_type": "markdown",
   "id": "47e24f15",
   "metadata": {},
   "source": [
    "# Life Cycle Analysis (LCA) Automation Tool\n",
    "*This project is a Python tool developed to analyze, compare, and visualize the environmental impacts of various products throughout their life cycles.*\n",
    "\n",
    "**Author:** İlker Mehmet ÇEVİK\n",
    "**Last Updated:** June 12, 2025"
   ]
  },
  {
   "cell_type": "markdown",
   "id": "68300ebc",
   "metadata": {},
   "source": [
    "Life Cycle Analysis (LCA) is a methodology for assessing the environmental impacts of a product across its entire life span, from raw material extraction (\"cradle\") to its final disposal (\"grave\"). It quantifies key metrics like carbon footprint, water usage, and energy consumption at every stage, providing a complete and holistic picture of a product's true environmental footprint."
   ]
  },
  {
   "cell_type": "markdown",
   "id": "3a62446b",
   "metadata": {},
   "source": [
    "The goal of this tool is to automate the LCA process for construction materials, enabling a direct and data-driven comparison of their environmental performance. By calculating and visualizing key impact indicators, it empowers engineers and architects to quickly assess the sustainability of different design choices and select materials with a lower environmental footprint."
   ]
  },
  {
   "cell_type": "markdown",
   "id": "c6960bc3",
   "metadata": {},
   "source": [
    "This document serves a dual purpose: it is both a technical guide and a practical showcase. As a guide, it provides the necessary instructions and API reference to use and extend the tool. As a showcase, it presents an end-to-end analysis, demonstrating the tool's capabilities in generating actionable insights and validating its real-world application."
   ]
  },
  {
   "cell_type": "markdown",
   "id": "e490397a",
   "metadata": {},
   "source": [
    "## 2. Setup and Installation\n",
    "This section describes the necessary steps to run the project and explains the project's file structure."
   ]
  },
  {
   "cell_type": "markdown",
   "id": "e3d81456",
   "metadata": {},
   "source": [
    "### 2.1. Required Libraries\n",
    "The project requires the following libraries: `pandas`, `numpy`, `matplotlib`, `seaborn`. To install these dependencies, run the following command in your terminal from the project's root directory:\n",
    "\n",
    "```bash\n",
    "pip install -r requirements.txt"
   ]
  },
  {
   "cell_type": "markdown",
   "id": "31c20dab",
   "metadata": {},
   "source": [
    "### 2.2. Project File Structure\n",
    "The project follows a standard Python project structure:"
   ]
  },
  {
   "cell_type": "markdown",
   "id": "5565cf51",
   "metadata": {},
   "source": [
    "```\n",
    "final_project/\n",
    "├── data/\n",
    "│   └── raw/\n",
    "│       ├── impact_factors.json\n",
    "│       └── sample_data.csv\n",
    "├── notebooks/\n",
    "│   ├── documentation.ipynb\n",
    "│   └── lca_analysis_example.ipynb\n",
    "├── outputs/                      <-- Generated automatically upon execution\n",
    "│   ├── data/\n",
    "│   └── figures/\n",
    "├── src/\n",
    "│   ├── __init__.py\n",
    "│   ├── calculations.py\n",
    "│   ├── data_input.py\n",
    "│   ├── utils.py\n",
    "│   └── visualization.py\n",
    "├── tests/\n",
    "│   ├── conftest.py\n",
    "│   ├── test_calculations.py\n",
    "│   ├── test_data_input.py\n",
    "│   └── test_visualization.py\n",
    "├── pytest.ini\n",
    "└── requirements.txt\n",
    "```"
   ]
  },
  {
   "cell_type": "markdown",
   "id": "cd753e86",
   "metadata": {},
   "source": [
    "## 3. Quick Start: Basic Analysis Workflow\n",
    "The following code blocks demonstrate the entire process in 3 steps, from loading data to creating a basic visualization."
   ]
  },
  {
   "cell_type": "code",
   "execution_count": null,
   "id": "1bfaf63a",
   "metadata": {},
   "outputs": [],
   "source": [
    "import pandas as pd\n",
    "from src.data_input import DataInput\n",
    "from src.calculations import LCACalculator\n",
    "from src.visualization import LCAVisualizer\n",
    "\n",
    "# Required settings for rendering in notebook\n",
    "import matplotlib\n",
    "%matplotlib inline"
   ]
  },
  {
   "cell_type": "markdown",
   "id": "a2b2ade7",
   "metadata": {},
   "source": [
    "**Step 1: Data Loading**"
   ]
  },
  {
   "cell_type": "code",
   "execution_count": null,
   "id": "c5d4c7f5",
   "metadata": {},
   "outputs": [],
   "source": [
    "data_input = DataInput()\n",
    "product_data = data_input.read_data('data/raw/sample_data.csv')\n",
    "impact_factors = data_input.read_impact_factors('data/raw/impact_factors.json')\n",
    "print(\"First 5 rows of the product data:\")\n",
    "product_data.head()"
   ]
  },
  {
   "cell_type": "markdown",
   "id": "c0ee4b66",
   "metadata": {},
   "source": [
    "**Step 2: Calculation**"
   ]
  },
  {
   "cell_type": "code",
   "execution_count": null,
   "id": "55e3ff87",
   "metadata": {},
   "outputs": [],
   "source": [
    "calculator = LCACalculator(impact_factors_path='data/raw/impact_factors.json')\n",
    "total_impacts = calculator.calculate_total_impacts(calculator.calculate_impacts(product_data))\n",
    "print(\"Total environmental impacts by product:\")\n",
    "total_impacts"
   ]
  },
  {
   "cell_type": "markdown",
   "id": "416b045b",
   "metadata": {},
   "source": [
    "**Step 3: Visualization**"
   ]
  },
  {
   "cell_type": "code",
   "execution_count": null,
   "id": "2e1dc3f1",
   "metadata": {},
   "outputs": [],
   "source": [
    "visualizer = LCAVisualizer()\n",
    "fig = visualizer.plot_product_comparison(calculator.calculate_impacts(product_data), ['P001', 'P002'])"
   ]
  },
  {
   "cell_type": "markdown",
   "id": "f37ba2c1",
   "metadata": {},
   "source": [
    "## 4. Detailed Module Usage (API Reference)\n",
    "This section explains the function and usage of each module under the `src` directory with detailed examples."
   ]
  },
  {
   "cell_type": "markdown",
   "id": "903eef0a",
   "metadata": {},
   "source": [
    "### 4.1. Data Input (`src/data_input.py`)\n",
    "\n",
    "This module is responsible for all data ingestion and validation tasks. The **`DataInput`** class handles reading data from various file formats and ensures that the data conforms to the required structure before calculations begin.\n"
   ]
  },
  {
   "cell_type": "markdown",
   "id": "3bbc93f3",
   "metadata": {},
   "source": [
    "**`read_data(file_path)`**\n",
    "\n",
    "This function reads product data from a specified file path. It supports `.csv`, `.xlsx`, and `.json` formats."
   ]
  },
  {
   "cell_type": "code",
   "execution_count": null,
   "id": "66742454",
   "metadata": {},
   "outputs": [],
   "source": [
    "# Initialize the class and read the sample data\n",
    "data_input = DataInput()\n",
    "product_data = data_input.read_data('data/raw/sample_data.csv')\n",
    "\n",
    "print(\"Data loaded successfully. Shape:\", product_data.shape)\n",
    "product_data.head()"
   ]
  },
  {
   "cell_type": "markdown",
   "id": "d99e3261",
   "metadata": {},
   "source": [
    "**`read_impact_factors(file_path)`**\n",
    "\n",
    "This function reads the environmental impact factors from a specified JSON file."
   ]
  },
  {
   "cell_type": "code",
   "execution_count": null,
   "id": "89eebc76",
   "metadata": {},
   "outputs": [],
   "source": [
    "# Read the impact factors\n",
    "impact_factors = data_input.read_impact_factors('data/raw/impact_factors.json')\n",
    "\n",
    "print(\"Impact factors for 'steel':\")\n",
    "pd.DataFrame(impact_factors['steel'])"
   ]
  },
  {
   "cell_type": "markdown",
   "id": "015a2dbb",
   "metadata": {},
   "source": [
    "**`validate_data(data)`**\n",
    "\n",
    "This function checks if the input DataFrame contains all required columns and valid data types. It also validates that the end-of-life rates sum to 1. It returns `True` if the data is valid, and `False` otherwise."
   ]
  },
  {
   "cell_type": "code",
   "execution_count": null,
   "id": "56f09ef0",
   "metadata": {},
   "outputs": [],
   "source": [
    "# Validate the loaded product data\n",
    "is_valid = data_input.validate_data(product_data)\n",
    "\n",
    "print(f\"Is the product data valid? -> {is_valid}\")"
   ]
  },
  {
   "cell_type": "markdown",
   "id": "f7aae5b4",
   "metadata": {},
   "source": [
    "### 4.2. Calculations (`src/calculations.py`)\n",
    "\n",
    "This module contains the core calculation engine of the tool, the **`LCACalculator`** class. It takes the processed data and impact factors to compute environmental impacts.\n",
    "\n",
    "***Before running the examples below, first initialize the calculator:***"
   ]
  },
  {
   "cell_type": "code",
   "execution_count": null,
   "id": "22d601ba",
   "metadata": {},
   "outputs": [],
   "source": [
    "# Initialize the calculator with pre-loaded impact factors\n",
    "calculator = LCACalculator(impact_factors_path='data/raw/impact_factors.json')\n",
    "\n",
    "# Perform the main impact calculation once for use in examples\n",
    "impacts_df = calculator.calculate_impacts(product_data)"
   ]
  },
  {
   "cell_type": "markdown",
   "id": "862a8015",
   "metadata": {},
   "source": [
    "**`calculate_impacts(data)`**\n",
    "\n",
    "This is the primary calculation function. It returns a new DataFrame with detailed impact results."
   ]
  },
  {
   "cell_type": "code",
   "execution_count": null,
   "id": "2ad2c73c",
   "metadata": {},
   "outputs": [],
   "source": [
    "# Display the first few rows of the detailed impact results\n",
    "print(\"Shape of the calculated impacts DataFrame:\", impacts_df.shape)\n",
    "impacts_df.head()"
   ]
  },
  {
   "cell_type": "markdown",
   "id": "841c0ca8",
   "metadata": {},
   "source": [
    "**`calculate_total_impacts(impacts)`**\n",
    "\n",
    "This function aggregates the detailed impact results, grouping them by product to calculate the total environmental impact for each product across its entire life cycle."
   ]
  },
  {
   "cell_type": "code",
   "execution_count": null,
   "id": "369b5428",
   "metadata": {},
   "outputs": [],
   "source": [
    "# Calculate and display total impacts per product\n",
    "total_impacts_df = calculator.calculate_total_impacts(impacts_df)\n",
    "total_impacts_df"
   ]
  },
  {
   "cell_type": "markdown",
   "id": "b0ad9a76",
   "metadata": {},
   "source": [
    "**`normalize_impacts(impacts)`**\n",
    "\n",
    "This function normalizes the impact scores to a common 0-1 scale, where 1 represents the highest impact in that category."
   ]
  },
  {
   "cell_type": "code",
   "execution_count": null,
   "id": "4a0d1220",
   "metadata": {},
   "outputs": [],
   "source": [
    "# Normalize the total impact scores for comparison\n",
    "normalized_impacts = calculator.normalize_impacts(total_impacts_df)\n",
    "normalized_impacts"
   ]
  },
  {
   "cell_type": "markdown",
   "id": "a55abe35",
   "metadata": {},
   "source": [
    "**`compare_alternatives(impacts, product_ids)`**\n",
    "\n",
    "This function isolates two or more products from the dataset and calculates their relative performance against each other."
   ]
  },
  {
   "cell_type": "code",
   "execution_count": null,
   "id": "c75348f3",
   "metadata": {},
   "outputs": [],
   "source": [
    "# Compare the environmental performance of Product 'P001' and 'P002'\n",
    "comparison_df = calculator.compare_alternatives(impacts_df, ['P001', 'P002'])\n",
    "comparison_df"
   ]
  },
  {
   "cell_type": "markdown",
   "id": "09213a91",
   "metadata": {},
   "source": [
    "### 4.3. Utilities (`src/utils.py`)\n",
    "This module contains helper functions that can be used across the project."
   ]
  },
  {
   "cell_type": "markdown",
   "id": "db4131b4",
   "metadata": {},
   "source": [
    "**`convert_units(value, from_unit, to_unit)`**\n",
    "\n",
    "This function converts a numerical value from a source unit to a target unit."
   ]
  },
  {
   "cell_type": "code",
   "execution_count": null,
   "id": "9ca91245",
   "metadata": {},
   "outputs": [],
   "source": [
    "from src.utils import convert_units\n",
    "\n",
    "# Convert 100 kilograms to pounds\n",
    "pounds = convert_units(100, from_unit='kg', to_unit='lb')\n",
    "\n",
    "print(f\"100 kg is equal to {pounds:.2f} lb\")"
   ]
  },
  {
   "cell_type": "markdown",
   "id": "0ec9d612",
   "metadata": {},
   "source": [
    "**`save_results(data, file_path, format)`**\n",
    "\n",
    "This function saves a pandas DataFrame to a file, supporting 'csv', 'xlsx', and 'json' formats."
   ]
  },
  {
   "cell_type": "code",
   "execution_count": null,
   "id": "d06b43b2",
   "metadata": {},
   "outputs": [],
   "source": [
    "from src.utils import save_results\n",
    "import os\n",
    "\n",
    "os.makedirs('outputs/data', exist_ok=True)\n",
    "save_results(total_impacts_df, 'outputs/data/total_impacts_summary.csv', format='csv')\n",
    "\n",
    "print(\"Results saved to 'outputs/data/total_impacts_summary.csv'\")"
   ]
  },
  {
   "cell_type": "markdown",
   "id": "d3bc76d5",
   "metadata": {},
   "source": [
    "### 4.4. Visualization (`src/visualization.py`)\n",
    "This module handles the creation of all plots and charts through the **`LCAVisualizer`** class.\n",
    "\n",
    "***Before running the examples below, first initialize the visualizer:***"
   ]
  },
  {
   "cell_type": "code",
   "execution_count": null,
   "id": "b480ec00",
   "metadata": {},
   "outputs": [],
   "source": [
    "visualizer = LCAVisualizer()"
   ]
  },
  {
   "cell_type": "markdown",
   "id": "4caae7e1",
   "metadata": {},
   "source": [
    "**`plot_impact_breakdown(data, impact_type, group_by)`**\n",
    "\n",
    "Creates a pie chart showing the breakdown of a specific impact by a chosen category."
   ]
  },
  {
   "cell_type": "code",
   "execution_count": null,
   "id": "ba496be2",
   "metadata": {},
   "outputs": [],
   "source": [
    "# Generate a pie chart for Carbon Impact by Material Type\n",
    "fig = visualizer.plot_impact_breakdown(impacts_df, 'carbon_impact', 'material_type')"
   ]
  },
  {
   "cell_type": "markdown",
   "id": "a7a9ffdf",
   "metadata": {},
   "source": [
    "**`plot_life_cycle_impacts(data, product_id)`**\n",
    "\n",
    "Creates a set of bar charts showing impacts across the life cycle stages for a single product."
   ]
  },
  {
   "cell_type": "code",
   "execution_count": null,
   "id": "118cb39e",
   "metadata": {},
   "outputs": [],
   "source": [
    "# Visualize the life cycle impacts for Product 'P001'\n",
    "fig = visualizer.plot_life_cycle_impacts(impacts_df, 'P001')"
   ]
  },
  {
   "cell_type": "markdown",
   "id": "b81d12e7",
   "metadata": {},
   "source": [
    "**`plot_product_comparison(data, product_ids)`**\n",
    "\n",
    "Creates a radar chart to provide a head-to-head comparison of multiple products."
   ]
  },
  {
   "cell_type": "code",
   "execution_count": null,
   "id": "dc4d7b25",
   "metadata": {},
   "outputs": [],
   "source": [
    "# Generate a radar chart comparing Products 'P002' (Steel Beam) and 'P003' (Wood Beam)\n",
    "fig = visualizer.plot_product_comparison(impacts_df, ['P002', 'P003'])"
   ]
  },
  {
   "cell_type": "markdown",
   "id": "f2ab37ab",
   "metadata": {},
   "source": [
    "**`plot_end_of_life_breakdown(data, product_id)`**\n",
    "\n",
    "Creates a stacked bar chart showing the end-of-life management strategy for a product."
   ]
  },
  {
   "cell_type": "code",
   "execution_count": null,
   "id": "d6506caf",
   "metadata": {},
   "outputs": [],
   "source": [
    "# Visualize the end-of-life scenario for Product 'P001'\n",
    "fig = visualizer.plot_end_of_life_breakdown(impacts_df, 'P001')"
   ]
  },
  {
   "cell_type": "markdown",
   "id": "1275a0e3",
   "metadata": {},
   "source": [
    "**`plot_impact_correlation(data)`**\n",
    "\n",
    "Creates a heatmap to show the correlation between different impact categories."
   ]
  },
  {
   "cell_type": "code",
   "execution_count": null,
   "id": "005f1991",
   "metadata": {},
   "outputs": [],
   "source": [
    "# Generate a correlation heatmap for all impact categories\n",
    "fig = visualizer.plot_impact_correlation(impacts_df)"
   ]
  },
  {
   "cell_type": "markdown",
   "id": "40f97afb",
   "metadata": {},
   "source": [
    "## 5. End-to-End Analysis Scenario: Steel vs. Wood\n",
    "\n",
    "In this section, we will use the tool to conduct a practical analysis, comparing the environmental performance of two common structural materials to answer a key question: **Which material is more sustainable?**"
   ]
  },
  {
   "cell_type": "markdown",
   "id": "42970671",
   "metadata": {},
   "source": [
    "### 5.1. Hypothesis: Comparing a Steel Beam vs. a Wood Beam\n",
    "\n",
    "Our hypothesis is that a modern **Engineered Wood Beam (P003)** will have a significantly lower overall environmental impact compared to a traditional **Structural Steel Beam (P002)**. We will begin by generating a radar chart to get a high-level comparison across all major impact categories."
   ]
  },
  {
   "cell_type": "code",
   "execution_count": null,
   "id": "66aea76d",
   "metadata": {},
   "outputs": [],
   "source": [
    "# Generate a radar chart to compare the two products\n",
    "fig_scenario_1 = visualizer.plot_product_comparison(\n",
    "    impacts_df, \n",
    "    ['P002', 'P003']\n",
    ")\n",
    "\n",
    "# Set the title on the figure object after it's created\n",
    "fig_scenario_1.suptitle('Environmental Impact Comparison: Steel vs. Wood', fontsize=16)"
   ]
  },
  {
   "cell_type": "markdown",
   "id": "960407f4",
   "metadata": {},
   "source": [
    "### 5.2. Initial Analysis\n",
    "\n",
    "The radar chart provides a clear visual confirmation of our hypothesis. The blue line, representing the steel beam (P002), encompasses a much larger area than the orange line for the wood beam (P003), indicating a higher impact in every category.\n",
    "\n",
    "To quantify this, we can examine the data from our `total_impacts_df` DataFrame. The analysis reveals that the steel beam's **carbon footprint is approximately 5.6 times higher** than the engineered wood beam's. Similarly, its energy and water impacts are also significantly greater. This initial result strongly suggests that for this application, engineered wood is the more sustainable choice."
   ]
  },
  {
   "cell_type": "markdown",
   "id": "526556ad",
   "metadata": {},
   "source": [
    "### 5.3. Drill-Down: Understanding the Steel Beam's Impact\n",
    "\n",
    "Now that we've identified the steel beam as the higher-impact material, let's investigate *why*. We will generate a life cycle impact chart for the steel beam (P002) to see which stage contributes the most to its environmental footprint."
   ]
  },
  {
   "cell_type": "code",
   "execution_count": null,
   "id": "482fb5b9",
   "metadata": {},
   "outputs": [],
   "source": [
    "# Generate a life cycle impact chart for the steel beam (P002)\n",
    "fig_scenario_2 = visualizer.plot_life_cycle_impacts(\n",
    "    impacts_df, \n",
    "    'P002'\n",
    ")\n",
    "# Add a main title to the figure\n",
    "fig_scenario_2.suptitle('Life Cycle Impact Breakdown for Steel Beam (P002)', fontsize=16)"
   ]
  },
  {
   "cell_type": "markdown",
   "id": "09782c44",
   "metadata": {},
   "source": [
    "### 5.4. Drill-Down Analysis\n",
    "\n",
    "The bar charts above are incredibly revealing. For the steel beam, the \"Manufacturing\" stage is overwhelmingly dominant across all impact types. \n",
    "\n",
    "A closer look at the data shows that **approximately 71% of the steel beam's total carbon footprint originates from its manufacturing process.** This highlights that while transportation and end-of-life management have an impact, the most significant opportunity for environmental improvement lies in sourcing steel produced with cleaner energy or increasing the use of recycled content.\n",
    "\n",
    "This end-to-end analysis demonstrates how the tool can be used not only to compare products but also to pinpoint the specific \"hotspots\" within a product's life cycle that require the most attention for sustainability efforts."
   ]
  },
  {
   "cell_type": "markdown",
   "id": "c0fc5ba4",
   "metadata": {},
   "source": [
    "## 6. Conclusion and Future Work\n",
    "\n",
    "### Conclusion\n",
    "\n",
    "This project successfully developed a modular and automated tool for performing Life Cycle Analysis. The tool provides a complete, end-to-end workflow, from data ingestion and validation to calculation and visualization, making LCA more accessible and efficient. The modular structure (`src`) and comprehensive test suite (`tests`) ensure that the tool is both reliable and easily extensible.\n",
    "\n",
    "The analysis scenario presented in this document demonstrated the tool's practical value. By quantitatively comparing a steel beam and an engineered wood beam, we were able to validate the hypothesis that the wood beam has a significantly lower environmental footprint, particularly a carbon impact that is over five times smaller. Furthermore, the drill-down analysis successfully identified the manufacturing stage as the primary environmental \"hotspot\" for the steel beam, proving the tool's capability to guide targeted sustainability efforts. In conclusion, this project serves as a powerful proof-of-concept for data-driven decision-making in sustainable design.\n",
    "\n",
    "### Future Work\n",
    "\n",
    "While this tool is fully functional, there are numerous opportunities for future expansion and improvement. Potential next steps include:\n",
    "\n",
    "* **Expanding the Database:**\n",
    "    * Incorporate a wider range of materials (e.g., composites, advanced polymers, different alloys).\n",
    "    * Integrate more comprehensive and region-specific impact factor databases (like Ecoinvent) to allow for more granular analysis based on geographical location.\n",
    "\n",
    "* **Developing a User Interface:**\n",
    "    * Create a graphical user interface (GUI), potentially as a web application using frameworks like **Streamlit** or **Flask**. This would make the tool accessible to non-programmers, allowing them to upload their own data files and generate reports interactively.\n",
    "\n",
    "* **Increasing Analysis Depth:**\n",
    "    * Add more LCA impact categories beyond carbon, water, and energy, such as **Acidification Potential (AP)**, **Eutrophication Potential (EP)**, and **Ozone Depletion Potential (ODP)**.\n",
    "    * Implement uncertainty analysis (e.g., Monte Carlo simulations) to account for variability in input data and provide results as a range rather than a single point value.\n",
    "\n",
    "* **API and Integration:**\n",
    "    * Develop a REST API to allow other software to programmatically access the LCA calculation engine.\n",
    "    * Explore potential integrations with architectural design software (e.g., Revit, ArchiCAD) to provide real-time environmental feedback during the design process."
   ]
  }
 ],
 "metadata": {
  "kernelspec": {
   "display_name": "CE49X",
   "language": "python",
   "name": "python3"
  },
  "language_info": {
   "codemirror_mode": {
    "name": "ipython",
    "version": 3
   },
   "file_extension": ".py",
   "mimetype": "text/x-python",
   "name": "python",
   "nbconvert_exporter": "python",
   "pygments_lexer": "ipython3",
   "version": "3.13.2"
  }
 },
 "nbformat": 4,
 "nbformat_minor": 5
}
